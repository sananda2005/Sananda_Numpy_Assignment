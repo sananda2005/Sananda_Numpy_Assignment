{
  "cells": [
    {
      "cell_type": "markdown",
      "id": "fc9848cf",
      "metadata": {
        "id": "fc9848cf"
      },
      "source": [
        "# Numpy Assignment Questions"
      ]
    },
    {
      "cell_type": "markdown",
      "id": "f569052e",
      "metadata": {
        "id": "f569052e"
      },
      "source": [
        "# 1. What is a Python library? Why do we use Python libraries?"
      ]
    },
    {
      "cell_type": "markdown",
      "id": "901c7d77",
      "metadata": {
        "id": "901c7d77"
      },
      "source": [
        "A Python library is a collection of pre-written code, functions, and modules that can be easily imported and used in your Python scripts or programs. These libraries provide a set of tools and functionalities that help developers perform common tasks without having to write the code from scratch. Python libraries are designed to be reusable and can save a significant amount of time and effort by providing pre-built solutions for various tasks.\n",
        "\n",
        "Eg: Numpy, Pandas, Flask"
      ]
    },
    {
      "cell_type": "markdown",
      "id": "2253bcf7",
      "metadata": {
        "id": "2253bcf7"
      },
      "source": [
        "Here are some reasons why we use Python libraries:\n",
        "\n",
        "1. **Code Reusability:** Libraries contain pre-written code that can be reused in different projects, saving time and effort.\n",
        "\n",
        "2. **Efficiency:** Python libraries are often optimized for performance and efficiency. Using well-established libraries allows developers to benefit from optimized algorithms and well-tested code, leading to more efficient programs.\n",
        "\n",
        "3. **Domain-Specific Functionality:** Many Python libraries are specialized for specific domains, such as data science, machine learning, web development, and more. By using these libraries, developers can easily access tools and functions tailored to their specific needs.\n",
        "\n",
        "4. **Community Contributions:** Python has a large and active community of developers who contribute to the creation and maintenance of libraries. This results in a rich ecosystem of libraries that cover a wide range of applications and domains.\n",
        "\n",
        "\n",
        "5. **Standardization:** Some Python libraries have become de facto standards for certain tasks. For example, libraries like NumPy and Pandas are widely used for numerical and data manipulation tasks in the field of data science.\n",
        "\n",
        "6. **Documentation and Support:** Popular Python libraries usually come with extensive documentation and have a large user base. This means that developers can easily find help, tutorials, and examples, making it easier to learn and use the library effectively.\n"
      ]
    },
    {
      "cell_type": "markdown",
      "id": "5af26f48",
      "metadata": {
        "id": "5af26f48"
      },
      "source": [
        "# 2. What is the difference between Numpy array and List?"
      ]
    },
    {
      "cell_type": "markdown",
      "id": "31780c99",
      "metadata": {
        "id": "31780c99"
      },
      "source": [
        "The main difference between a NumPy array and a list in Python lies in their performance, homogeneity, and memory management. Here are the key differences:\n",
        "\n",
        "1. **Performance**: NumPy arrays are faster than lists, especially when performing operations like calculating mean or sum, which are much faster on NumPy arrays.\n",
        "\n",
        "2. **Homogeneity**: NumPy arrays have strict requirements on the homogeneity of the objects they contain, meaning they can only store elements of the same type. Lists, on the other hand, can hold elements of varying data types, such as integers, floating-point numbers, strings, boolean values, or even other data structures like dictionaries.\n",
        "\n",
        "3. **Memory Management**: NumPy arrays store elements in adjacent memory locations, reducing fragmentation and allowing for efficient access. Lists, however, store additional information about each element, such as its type and reference count, which can lead to significant overhead when dealing with a large number of elements.\n",
        "\n",
        "4. **Creation**: Lists are built-in data structures in Python, while NumPy arrays require importing the NumPy library.\n",
        "\n"
      ]
    },
    {
      "cell_type": "markdown",
      "id": "b5f26676",
      "metadata": {
        "id": "b5f26676"
      },
      "source": [
        "# 3. Find the shape, size and dimension of the following array?\n",
        "\n",
        "[[1, 2, 3, 4],\n",
        "\n",
        "[5, 6, 7, 8],\n",
        "\n",
        "[9, 10, 11, 12]]"
      ]
    },
    {
      "cell_type": "code",
      "execution_count": null,
      "id": "6fe2d1e8",
      "metadata": {
        "id": "6fe2d1e8",
        "outputId": "daff2ef1-60d7-4149-f896-48f2d2409fa5"
      },
      "outputs": [
        {
          "name": "stdout",
          "output_type": "stream",
          "text": [
            "Shape of the array: (3, 4)\n",
            "Size of the array: 12\n",
            "Dimension of the array: 2\n"
          ]
        }
      ],
      "source": [
        "import numpy as np\n",
        "\n",
        "arr = np.array([[1, 2, 3, 4],\n",
        "[5, 6, 7, 8],\n",
        "[9, 10, 11, 12]])\n",
        "\n",
        "print(\"Shape of the array:\", arr.shape)\n",
        "print(\"Size of the array:\",arr.size)\n",
        "print(\"Dimension of the array:\", arr.ndim)"
      ]
    },
    {
      "cell_type": "markdown",
      "id": "3abffcae",
      "metadata": {
        "id": "3abffcae"
      },
      "source": [
        "# 4. Write python code to access the first row of the following array?\n",
        "\n",
        "[[1, 2, 3, 4]\n",
        "\n",
        "[5, 6, 7, 8],\n",
        "\n",
        "[9, 10, 11, 12]]"
      ]
    },
    {
      "cell_type": "code",
      "execution_count": null,
      "id": "dc6c53bf",
      "metadata": {
        "id": "dc6c53bf",
        "outputId": "0d4c7010-5454-4784-c151-92c2c3e69666"
      },
      "outputs": [
        {
          "name": "stdout",
          "output_type": "stream",
          "text": [
            "Original array:\n",
            " [[ 1  2  3  4]\n",
            " [ 5  6  7  8]\n",
            " [ 9 10 11 12]]\n",
            "First row: [1 2 3 4]\n"
          ]
        }
      ],
      "source": [
        "import numpy as np\n",
        "\n",
        "arr = np.array([[1, 2, 3, 4],\n",
        "[5, 6, 7, 8],\n",
        "[9, 10, 11, 12]])\n",
        "\n",
        "first_row = arr[0]\n",
        "\n",
        "print(\"Original array:\\n\",arr)\n",
        "print(\"First row:\",first_row)"
      ]
    },
    {
      "cell_type": "markdown",
      "id": "b00e293c",
      "metadata": {
        "id": "b00e293c"
      },
      "source": [
        "# 5. How do you access the element at the third row and fourth column from the given numpy array?\n",
        "\n",
        "[[1, 2, 3, 4],\n",
        "[5, 6, 7, 8],\n",
        "[9, 10, 11, 12]]"
      ]
    },
    {
      "cell_type": "code",
      "execution_count": null,
      "id": "facdc9f0",
      "metadata": {
        "id": "facdc9f0",
        "outputId": "01c30b99-1864-49a3-aae3-ceb9d1ba0df5"
      },
      "outputs": [
        {
          "name": "stdout",
          "output_type": "stream",
          "text": [
            "Original array:\n",
            " [[ 1  2  3  4]\n",
            " [ 5  6  7  8]\n",
            " [ 9 10 11 12]]\n",
            "\n",
            "Element at third row and fourth column: 12\n"
          ]
        }
      ],
      "source": [
        "import numpy as np\n",
        "\n",
        "arr = np.array([[1, 2, 3, 4], [5, 6, 7, 8], [9, 10, 11, 12]])\n",
        "\n",
        "required_ele = arr[2][3]\n",
        "\n",
        "print(\"Original array:\\n\",arr)\n",
        "print(\"\\nElement at third row and fourth column:\", required_ele)"
      ]
    },
    {
      "cell_type": "markdown",
      "id": "54ebbc96",
      "metadata": {
        "id": "54ebbc96"
      },
      "source": [
        "# 6. Write code to extract all odd-indexed elements from the given numpy array?\n",
        "\n",
        "[[1, 2, 3, 4],\n",
        "[5, 6, 7, 8],\n",
        "[9, 10, 11, 12]]"
      ]
    },
    {
      "cell_type": "code",
      "execution_count": null,
      "id": "4d98e37f",
      "metadata": {
        "id": "4d98e37f",
        "outputId": "1ca7240e-529f-4f3b-ce0c-eb87739af2cf"
      },
      "outputs": [
        {
          "name": "stdout",
          "output_type": "stream",
          "text": [
            "Original array:\n",
            " [[ 1  2  3  4]\n",
            " [ 5  6  7  8]\n",
            " [ 9 10 11 12]]\n",
            "\n",
            "Odd indexed elements: [ 2  4  6  8 10 12]\n"
          ]
        }
      ],
      "source": [
        "import numpy as np\n",
        "\n",
        "arr = np.array([[1, 2, 3, 4], [5, 6, 7, 8], [9, 10, 11, 12]])\n",
        "\n",
        "odd_indexed_ele = arr[:,1::2].flatten() #To convert into single dimentional array\n",
        "\n",
        "\n",
        "print(\"Original array:\\n\",arr)\n",
        "print(\"\\nOdd indexed elements:\", odd_indexed_ele)"
      ]
    },
    {
      "cell_type": "markdown",
      "id": "75a68f34",
      "metadata": {
        "id": "75a68f34"
      },
      "source": [
        "# 7. How can you generate a random 3x3 matrix with values between 0 and 1?"
      ]
    },
    {
      "cell_type": "code",
      "execution_count": null,
      "id": "bb7182ba",
      "metadata": {
        "id": "bb7182ba",
        "outputId": "c1354086-71bf-4c1d-c9d5-0ff57cc42abe"
      },
      "outputs": [
        {
          "name": "stdout",
          "output_type": "stream",
          "text": [
            "[[0.26092322 0.24138778 0.05351538]\n",
            " [0.97703495 0.38656924 0.8584963 ]\n",
            " [0.72570802 0.17403751 0.00168888]]\n"
          ]
        }
      ],
      "source": [
        "import numpy as np\n",
        "\n",
        "#creating a 3x3 matrix with random elements between 0 and 1\n",
        "\n",
        "random_matrix = np.random.rand(3,3)\n",
        "\n",
        "print(random_matrix)"
      ]
    },
    {
      "cell_type": "markdown",
      "id": "66d28de4",
      "metadata": {
        "id": "66d28de4"
      },
      "source": [
        "# 8. Describe the difference between np.random.rand and np.random.randn?"
      ]
    },
    {
      "cell_type": "markdown",
      "id": "ddbf12b5",
      "metadata": {
        "id": "ddbf12b5"
      },
      "source": [
        "`np.random.rand:`\n",
        "\n",
        "* This function generates random numbers from a **uniform distribution** over the interval [0, 1).\n",
        "*  The syntax is numpy.random.rand(d0, d1, ..., dn), where d0, d1, ..., dn are the dimensions of the output array.\n",
        "*  The generated numbers are floats uniformly distributed between 0 (inclusive) and 1 (exclusive)."
      ]
    },
    {
      "cell_type": "code",
      "execution_count": null,
      "id": "de5394fa",
      "metadata": {
        "id": "de5394fa",
        "outputId": "ed94a1c8-8354-4a2e-dd9b-3ee05d474c90"
      },
      "outputs": [
        {
          "name": "stdout",
          "output_type": "stream",
          "text": [
            "[[0.594662   0.91168252 0.24572413]\n",
            " [0.85884978 0.21464153 0.43000393]\n",
            " [0.11755084 0.33436876 0.91550355]]\n"
          ]
        }
      ],
      "source": [
        "# For example\n",
        "\n",
        "import numpy as np\n",
        "arr1 = np.random.rand(3,3)\n",
        "print(arr1)"
      ]
    },
    {
      "cell_type": "markdown",
      "id": "b44462c7",
      "metadata": {
        "id": "b44462c7"
      },
      "source": [
        "`np.random.randn:`\n",
        "\n",
        "* This function generates random numbers from a **standard normal distribution (also known as a Gaussian distribution)** with mean 0 and standard deviation 1.\n",
        "* The syntax is numpy.random.randn(d0, d1, ..., dn), where d0, d1, ..., dn are the dimensions of the output array.\n",
        "* The generated numbers follow a bell-shaped curve centered around 0, and their values can range from negative to positive infinity."
      ]
    },
    {
      "cell_type": "code",
      "execution_count": null,
      "id": "e15905f7",
      "metadata": {
        "id": "e15905f7",
        "outputId": "0c6a6073-3b38-49d7-b9c4-6497e5ce144e"
      },
      "outputs": [
        {
          "name": "stdout",
          "output_type": "stream",
          "text": [
            "[[-1.28637271  1.13006625]\n",
            " [-0.19564593  0.59682645]]\n"
          ]
        }
      ],
      "source": [
        "# For example\n",
        "\n",
        "import numpy as np\n",
        "arr = np.random.randn(2,2)\n",
        "print(arr)"
      ]
    },
    {
      "cell_type": "markdown",
      "id": "84a310e3",
      "metadata": {
        "id": "84a310e3"
      },
      "source": [
        "# 9. Write code to increase the dimension of the following array?\n",
        "\n",
        "[[1, 2, 3, 4],\n",
        "\n",
        "[5, 6, 7, 8],\n",
        "\n",
        "[9, 10, 11, 12]]"
      ]
    },
    {
      "cell_type": "code",
      "execution_count": null,
      "id": "8208ec21",
      "metadata": {
        "id": "8208ec21",
        "outputId": "16cc18cb-0efc-4b09-9b8b-c25af7976f3b"
      },
      "outputs": [
        {
          "name": "stdout",
          "output_type": "stream",
          "text": [
            "Original array:\n",
            " [[ 1  2  3  4]\n",
            " [ 5  6  7  8]\n",
            " [ 9 10 11 12]]\n",
            "original dimention: 2\n",
            "\n",
            "Array with increased dimension:\n",
            " [[[ 1  2  3  4]]\n",
            "\n",
            " [[ 5  6  7  8]]\n",
            "\n",
            " [[ 9 10 11 12]]]\n",
            "Now dimention becomes: 3\n"
          ]
        }
      ],
      "source": [
        "import numpy as np\n",
        "\n",
        "arr = np.array([[1, 2, 3, 4], [5, 6, 7, 8], [9, 10, 11, 12]])\n",
        "\n",
        "print(\"Original array:\\n\",arr)\n",
        "print(\"original dimention:\",arr.ndim)\n",
        "\n",
        "new_arr = np.expand_dims(arr,axis = 1)\n",
        "\n",
        "print(\"\\nArray with increased dimension:\\n\",new_arr)\n",
        "print(\"Now dimention becomes:\",new_arr.ndim)"
      ]
    },
    {
      "cell_type": "markdown",
      "id": "2774d644",
      "metadata": {
        "id": "2774d644"
      },
      "source": [
        "# 10. How to transpose the following array in NumPy?\n",
        "\n",
        "[[1, 2, 3, 4]\n",
        "\n",
        "[5, 6, 7, 8],\n",
        "\n",
        "[9, 10, 11, 12]]"
      ]
    },
    {
      "cell_type": "code",
      "execution_count": null,
      "id": "00403129",
      "metadata": {
        "id": "00403129",
        "outputId": "be9cc574-43be-4dec-a76c-210c1cd32f46"
      },
      "outputs": [
        {
          "name": "stdout",
          "output_type": "stream",
          "text": [
            "Original array:\n",
            " [[ 1  2  3  4]\n",
            " [ 5  6  7  8]\n",
            " [ 9 10 11 12]]\n",
            "\n",
            "Transposed array:\n",
            " [[ 1  5  9]\n",
            " [ 2  6 10]\n",
            " [ 3  7 11]\n",
            " [ 4  8 12]]\n"
          ]
        }
      ],
      "source": [
        "import numpy as np\n",
        "\n",
        "arr = np.array([[1, 2, 3, 4], [5, 6, 7, 8], [9, 10, 11, 12]])\n",
        "print(\"Original array:\\n\",arr)\n",
        "tranposed_arr = arr.T\n",
        "print(\"\\nTransposed array:\\n\",arr.T)"
      ]
    },
    {
      "cell_type": "markdown",
      "id": "2d9a6b03",
      "metadata": {
        "id": "2d9a6b03"
      },
      "source": [
        "# 11. Consider the following matrix:\n",
        "\n",
        "Matrix A: [[1, 2, 3, 4], [5, 6, 7, 8],[9, 10, 11, 12]]\n",
        "\n",
        "Matrix B: [[1, 2, 3, 4], [5, 6, 7, 8],[9, 10, 11, 12]]\n",
        "\n",
        "\n",
        "Perform the following operation using Python:\n",
        "\n",
        "1. Index wise multiplication\n",
        "\n",
        "2. Matrix multiplication\n",
        "\n",
        "3. Add both the matrics\n",
        "\n",
        "4. Subtract matrix B from A\n",
        "\n",
        "5. Divide Matrix B by A"
      ]
    },
    {
      "cell_type": "code",
      "execution_count": null,
      "id": "f6af7749",
      "metadata": {
        "id": "f6af7749",
        "outputId": "b4ca97a5-4b65-435a-d14c-fe79ab6d8adf"
      },
      "outputs": [
        {
          "name": "stdout",
          "output_type": "stream",
          "text": [
            "Matrix A:\n",
            " [[ 1  2  3  4]\n",
            " [ 5  6  7  8]\n",
            " [ 9 10 11 12]]\n",
            "\n",
            "Matrix B:\n",
            " [[ 1  2  3  4]\n",
            " [ 5  6  7  8]\n",
            " [ 9 10 11 12]]\n",
            "\n",
            "Indexwise multiplication:\n",
            " [[  1   4   9  16]\n",
            " [ 25  36  49  64]\n",
            " [ 81 100 121 144]]\n",
            "\n",
            "Matrix multiplication:\n",
            " [[ 30  70 110]\n",
            " [ 70 174 278]\n",
            " [110 278 446]]\n",
            "\n",
            "Addition of both the matrix:\n",
            " [[ 2  4  6  8]\n",
            " [10 12 14 16]\n",
            " [18 20 22 24]]\n",
            "\n",
            "Subtraction of matrix b from matrix A:\n",
            " [[0 0 0 0]\n",
            " [0 0 0 0]\n",
            " [0 0 0 0]]\n",
            "\n",
            "Division of matrix B by matrix A:\n",
            " [[1. 1. 1. 1.]\n",
            " [1. 1. 1. 1.]\n",
            " [1. 1. 1. 1.]]\n"
          ]
        }
      ],
      "source": [
        "import numpy as np\n",
        "matrix_a = np.array([[1, 2, 3, 4], [5, 6, 7, 8],[9, 10, 11, 12]])\n",
        "matrix_b = np.array([[1, 2, 3, 4], [5, 6, 7, 8],[9, 10, 11, 12]])\n",
        "print(\"Matrix A:\\n\",matrix_a)\n",
        "print(\"\\nMatrix B:\\n\",matrix_b)\n",
        "\n",
        "##1. Index wise multiplication\n",
        "print(\"\\nIndexwise multiplication:\\n\",matrix_a * matrix_b)\n",
        "\n",
        "##2. Matrix multiplication\n",
        "print(\"\\nMatrix multiplication:\\n\",matrix_a @ matrix_b.T) #we have taken the transpose of Matrix B for matrix multiplication\n",
        "\n",
        "##3. Addition of both the matrix\n",
        "print(\"\\nAddition of both the matrix:\\n\",matrix_a + matrix_b)\n",
        "\n",
        "##4. Subtraction of matrix B from matrix A\n",
        "print(\"\\nSubtraction of matrix b from matrix A:\\n\",matrix_a - matrix_b)\n",
        "\n",
        "##5. Division of matrix B by A\n",
        "print(\"\\nDivision of matrix B by matrix A:\\n\",matrix_b/matrix_a)"
      ]
    },
    {
      "cell_type": "markdown",
      "id": "e3234bab",
      "metadata": {
        "id": "e3234bab"
      },
      "source": [
        "# 12.  Which function in Numpy can be used to swap the byte order of an array?"
      ]
    },
    {
      "cell_type": "markdown",
      "id": "756a3617",
      "metadata": {
        "id": "756a3617"
      },
      "source": [
        "The `numpy.ndarray.byteswap` method can be used to swap the byte order of an array in NumPy. This method swaps the byte order of the elements of the array in place."
      ]
    },
    {
      "cell_type": "code",
      "execution_count": null,
      "id": "7780e445",
      "metadata": {
        "id": "7780e445",
        "outputId": "f8edfbb8-b83a-4da4-ede2-d8312a193755"
      },
      "outputs": [
        {
          "name": "stdout",
          "output_type": "stream",
          "text": [
            "Original array:\n",
            " [1 2 3 4]\n",
            "\n",
            "Array after byte swapping:\n",
            " [16777216 33554432 50331648 67108864]\n"
          ]
        }
      ],
      "source": [
        "import numpy as np\n",
        "\n",
        "# Create an array with a specific byte order\n",
        "original_array = np.array([1, 2, 3, 4], dtype='>i4')  # '>i4' represents big-endian 32-bit integer\n",
        "\n",
        "# Print the original array\n",
        "print(\"Original array:\\n\", original_array)\n",
        "\n",
        "# Swap the byte order\n",
        "swapped_array = original_array.byteswap()\n",
        "\n",
        "# Print the array after byte swapping\n",
        "print(\"\\nArray after byte swapping:\\n\", swapped_array)\n"
      ]
    },
    {
      "cell_type": "markdown",
      "id": "8069a9c2",
      "metadata": {
        "id": "8069a9c2"
      },
      "source": [
        "# 13.  What is the significance of the np.linalg.inv function?"
      ]
    },
    {
      "cell_type": "markdown",
      "id": "045ab63f",
      "metadata": {
        "id": "045ab63f"
      },
      "source": [
        "The `np.linalg.inv` function in NumPy is used to compute the (multiplicative) inverse of a square matrix(with non-zero determinant). The result of this function is another matrix, known as the inverse matrix, which, when multiplied by the original matrix, results in the identity matrix.\n",
        "\n",
        "For a given square matrix  A , if A^-1  is the inverse of  A , then the following relationship holds:\n",
        "\n",
        " A . A^-1 = A^-1 . A = I\n",
        "\n",
        "where  I is the identity matrix.\n",
        "\n",
        "The significance of `np.linalg.inv` lies in its applications, such as:\n",
        "\n",
        "1. **Solving Linear Systems of Equations:**\n",
        "   - Given a linear system of equations  Ax = B , where  A  is a coefficient matrix,  x  is the column vector of variables, and  B  is the column vector on the right-hand side, the solution can be found as  x = A^-1B.\n",
        "\n",
        "2. **Eigenvalue Problems:**\n",
        "   - In eigenvalue problems, the inverse of a matrix is often used. For a square matrix  A  and its eigenvector matrix  V (columns are eigenvectors), the inverse  A^-1  is used in the relationship  V^-1AV = Λ, where ( Λ) is a diagonal matrix of eigenvalues.\n",
        "\n",
        "\n",
        "Here's a simple example of using `np.linalg.inv`:\n"
      ]
    },
    {
      "cell_type": "code",
      "execution_count": null,
      "id": "bb36b54b",
      "metadata": {
        "id": "bb36b54b",
        "outputId": "d59a63d8-c3cf-4470-def3-4250bd792edb"
      },
      "outputs": [
        {
          "name": "stdout",
          "output_type": "stream",
          "text": [
            "Original matrix A:\n",
            " [[1 2]\n",
            " [3 4]]\n",
            "\n",
            "Inverse matrix A_inv:\n",
            " [[-2.   1. ]\n",
            " [ 1.5 -0.5]]\n",
            "\n",
            "Identity matrix (A * A_inv):\n",
            " [[1.00000000e+00 1.11022302e-16]\n",
            " [0.00000000e+00 1.00000000e+00]]\n"
          ]
        }
      ],
      "source": [
        "import numpy as np\n",
        "\n",
        "# Create a square matrix\n",
        "matrix_a = np.array([[1, 2], [3, 4]])\n",
        "\n",
        "# Compute the inverse matrix\n",
        "inverse_matrix_a = np.linalg.inv(matrix_a)\n",
        "\n",
        "# Verify the result: A * A_inv should be an identity matrix\n",
        "identity_matrix = np.dot(matrix_a, inverse_matrix_a)\n",
        "\n",
        "print(\"Original matrix A:\\n\", matrix_a)\n",
        "print(\"\\nInverse matrix A_inv:\\n\", inverse_matrix_a)\n",
        "print(\"\\nIdentity matrix (A * A_inv):\\n\", identity_matrix)\n"
      ]
    },
    {
      "cell_type": "markdown",
      "id": "9824b3c8",
      "metadata": {
        "id": "9824b3c8"
      },
      "source": [
        "# 14. What does the np.reshape function do, and how is it used?"
      ]
    },
    {
      "cell_type": "markdown",
      "id": "a83f5790",
      "metadata": {
        "id": "a83f5790"
      },
      "source": [
        "The `np.reshape` function in NumPy is used to change the shape of an array without changing its data. It returns a new array with a modified shape, and the data remains the same. The reshaping can be performed as long as the total number of elements in the original array is equal to the total number of elements in the reshaped array."
      ]
    },
    {
      "cell_type": "code",
      "execution_count": null,
      "id": "08d83f46",
      "metadata": {
        "id": "08d83f46",
        "outputId": "afd3c2d8-4152-4410-e951-72d26ecde74e"
      },
      "outputs": [
        {
          "name": "stdout",
          "output_type": "stream",
          "text": [
            "Original array:\n",
            " [1 2 3 4 5 6]\n",
            "Reshaped array:\n",
            " [[1 2 3]\n",
            " [4 5 6]]\n",
            "\n",
            "Original array:\n",
            " [[1 2 3]\n",
            " [4 5 6]]\n",
            "Reshaped array:\n",
            " [1 2 3 4 5 6]\n"
          ]
        }
      ],
      "source": [
        "import numpy as np\n",
        "\n",
        "# Example 1: Reshape a 1D array to a 2D array\n",
        "arr1 = np.array([1, 2, 3, 4, 5, 6])\n",
        "reshaped_arr1 = np.reshape(arr1, (2, 3))\n",
        "print(\"Original array:\\n\", arr1)\n",
        "print(\"Reshaped array:\\n\", reshaped_arr1)\n",
        "\n",
        "# Example 2: Reshape a 2D array to a 1D array\n",
        "arr2 = np.array([[1, 2, 3], [4, 5, 6]])\n",
        "reshaped_arr2 = np.reshape(arr2, 6)\n",
        "print(\"\\nOriginal array:\\n\", arr2)\n",
        "print(\"Reshaped array:\\n\", reshaped_arr2)\n"
      ]
    },
    {
      "cell_type": "markdown",
      "id": "68078dc9",
      "metadata": {
        "id": "68078dc9"
      },
      "source": [
        "# 15. What is broadcasting in Numpy?"
      ]
    },
    {
      "cell_type": "markdown",
      "id": "e01a51ad",
      "metadata": {
        "id": "e01a51ad"
      },
      "source": [
        "`Broadcasting` in NumPy is a powerful mechanism that allows universal functions to work with arrays of different shapes. It enables element-wise operations between arrays of different shapes by automatically aligning the arrays and duplicating elements as needed. This allows for more concise and efficient code, as it eliminates the need for explicit looping over the arrays. Broadcasting follows a set of rules to determine how the arrays should be aligned, and it can also be used to perform operations between arrays and scalars."
      ]
    },
    {
      "cell_type": "code",
      "execution_count": null,
      "id": "c9c54bca",
      "metadata": {
        "id": "c9c54bca",
        "outputId": "b25f6e72-b0db-4a44-efb3-4818ae1172ad"
      },
      "outputs": [
        {
          "name": "stdout",
          "output_type": "stream",
          "text": [
            "Array a:\n",
            " [1. 2. 3.]\n",
            "Scalar b: 2.0\n",
            "\n",
            "Result after broadcasting:\n",
            " [2. 4. 6.]\n"
          ]
        }
      ],
      "source": [
        "#for example\n",
        "\n",
        "##example 1\n",
        "\n",
        "import numpy as np\n",
        "\n",
        "a = np.array([1.0, 2.0, 3.0])\n",
        "b = 2.0\n",
        "\n",
        "# Performing element-wise multiplication without explicitly creating a copy of b\n",
        "result = a * b\n",
        "\n",
        "print(\"Array a:\\n\", a)\n",
        "print(\"Scalar b:\", b)\n",
        "print(\"\\nResult after broadcasting:\\n\", result)\n"
      ]
    },
    {
      "cell_type": "code",
      "execution_count": null,
      "id": "87a4ce4b",
      "metadata": {
        "id": "87a4ce4b",
        "outputId": "6712405b-d1d7-4c37-e102-af0c4eb0d35b"
      },
      "outputs": [
        {
          "name": "stdout",
          "output_type": "stream",
          "text": [
            "[1 2 3] \n",
            "\n",
            "[[1]\n",
            " [2]\n",
            " [3]] \n",
            "\n",
            "[[2 3 4]\n",
            " [3 4 5]\n",
            " [4 5 6]]\n"
          ]
        }
      ],
      "source": [
        "##Example 2\n",
        "import numpy as np\n",
        "\n",
        "# Create a 1D array\n",
        "a = np.array([1, 2, 3])\n",
        "print(a,\"\\n\")\n",
        "# Create a 2D array\n",
        "b = np.array([[1], [2], [3]])\n",
        "print(b,\"\\n\")\n",
        "# Add the two arrays\n",
        "c = a + b\n",
        "\n",
        "# Print the result\n",
        "print(c)"
      ]
    }
  ],
  "metadata": {
    "kernelspec": {
      "display_name": "Python 3 (ipykernel)",
      "language": "python",
      "name": "python3"
    },
    "language_info": {
      "codemirror_mode": {
        "name": "ipython",
        "version": 3
      },
      "file_extension": ".py",
      "mimetype": "text/x-python",
      "name": "python",
      "nbconvert_exporter": "python",
      "pygments_lexer": "ipython3",
      "version": "3.11.7"
    },
    "colab": {
      "provenance": []
    }
  },
  "nbformat": 4,
  "nbformat_minor": 5
}